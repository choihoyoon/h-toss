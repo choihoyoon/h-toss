{
 "cells": [
  {
   "cell_type": "markdown",
   "id": "7f7ee593-af70-4282-8e68-5ab599dbd423",
   "metadata": {},
   "source": [
    "# While 반복문"
   ]
  },
  {
   "cell_type": "code",
   "execution_count": null,
   "id": "fb527e37-7b0e-403d-b63d-486447b311cd",
   "metadata": {},
   "outputs": [],
   "source": [
    "while 불 표현식: ### 조건식, True가 조건식을 작성\n",
    "    문장"
   ]
  },
  {
   "cell_type": "markdown",
   "id": "3dcce935-5c93-4be1-98e1-46630778c945",
   "metadata": {},
   "source": [
    "## for 반복문처럼 사용"
   ]
  },
  {
   "cell_type": "code",
   "execution_count": 2,
   "id": "b294e69e-b733-4ad7-ab96-e4b2832c2178",
   "metadata": {},
   "outputs": [
    {
     "name": "stdout",
     "output_type": "stream",
     "text": [
      "0번째 반복입니다.\n",
      "1번째 반복입니다.\n",
      "2번째 반복입니다.\n",
      "3번째 반복입니다.\n",
      "4번째 반복입니다.\n",
      "5번째 반복입니다.\n",
      "6번째 반복입니다.\n",
      "7번째 반복입니다.\n",
      "8번째 반복입니다.\n",
      "9번째 반복입니다.\n",
      "10\n"
     ]
    }
   ],
   "source": [
    "i = 0\n",
    "while i < 10:\n",
    "    print('{}번째 반복입니다.'.format(i))\n",
    "    i += 1\n",
    "\n",
    "print(i)"
   ]
  },
  {
   "cell_type": "markdown",
   "id": "3a8b2f7f-50bd-4cd2-866a-7fb880d96ab8",
   "metadata": {},
   "source": [
    "## 상태를 기반으로 반복"
   ]
  },
  {
   "cell_type": "code",
   "execution_count": 15,
   "id": "d24b8831-0eb6-44ac-b25d-b4d0e89dd82e",
   "metadata": {},
   "outputs": [
    {
     "data": {
      "text/plain": [
       "False"
      ]
     },
     "execution_count": 15,
     "metadata": {},
     "output_type": "execute_result"
    }
   ],
   "source": [
    "list_test = [1, 1]\n",
    "value = 2 \n",
    "\n",
    "value in list_test"
   ]
  },
  {
   "cell_type": "code",
   "execution_count": 14,
   "id": "d0785b3e-e3b7-47f0-a4ac-ba07193decb0",
   "metadata": {},
   "outputs": [
    {
     "data": {
      "text/plain": [
       "[1, 1]"
      ]
     },
     "execution_count": 14,
     "metadata": {},
     "output_type": "execute_result"
    }
   ],
   "source": [
    "list_test.remove(value)\n",
    "list_test"
   ]
  },
  {
   "cell_type": "code",
   "execution_count": 3,
   "id": "8f4f69dc-72d9-45a8-8444-9f58ff46b39f",
   "metadata": {},
   "outputs": [
    {
     "name": "stdout",
     "output_type": "stream",
     "text": [
      "[1, 1]\n"
     ]
    }
   ],
   "source": [
    "list_test = [1, 2, 1, 2]\n",
    "value = 2 \n",
    "\n",
    "while value in list_test:\n",
    "    list_test.remove(value)\n",
    "\n",
    "print(list_test)"
   ]
  },
  {
   "cell_type": "markdown",
   "id": "b72b59c4-f625-4256-9e85-31fad11d8e49",
   "metadata": {},
   "source": [
    "## 시간을 기반으로 반복하기"
   ]
  },
  {
   "cell_type": "code",
   "execution_count": 19,
   "id": "8348c79f-6db8-444a-ab83-ce8964ff87f7",
   "metadata": {},
   "outputs": [
    {
     "name": "stdout",
     "output_type": "stream",
     "text": [
      "1719538083.6255116\n",
      "1719538088.6255116\n"
     ]
    }
   ],
   "source": [
    "import time\n",
    "\n",
    "print(time.time())\n",
    "target_tick = time.time() + 5\n",
    "print(target_tick)"
   ]
  },
  {
   "cell_type": "code",
   "execution_count": 17,
   "id": "f2159dab-8234-42e4-83ea-3cbd133fc474",
   "metadata": {},
   "outputs": [
    {
     "data": {
      "text/plain": [
       "32206102"
      ]
     },
     "execution_count": 17,
     "metadata": {},
     "output_type": "execute_result"
    }
   ],
   "source": [
    "number = 0\n",
    "\n",
    "# 5초 동안 반복\n",
    "target_tick = time.time() + 5\n",
    "while time.time() < target_tick:\n",
    "    number += 1\n",
    "number"
   ]
  },
  {
   "cell_type": "markdown",
   "id": "3e81d244-2185-4e0d-8f96-7e92de42218c",
   "metadata": {},
   "source": [
    "## break와 continue문"
   ]
  },
  {
   "cell_type": "code",
   "execution_count": 20,
   "id": "09ca28aa-a525-4e87-89ae-6b3163589333",
   "metadata": {},
   "outputs": [
    {
     "name": "stdout",
     "output_type": "stream",
     "text": [
      "5\n"
     ]
    }
   ],
   "source": [
    "numbers = [5, 15, 6, 20, 7, 25]\n",
    "\n",
    "for number in numbers:\n",
    "    print(number)\n",
    "    break"
   ]
  },
  {
   "cell_type": "code",
   "execution_count": 23,
   "id": "44116a66-67f0-40a0-b8bc-76d9aeeda150",
   "metadata": {},
   "outputs": [
    {
     "name": "stdout",
     "output_type": "stream",
     "text": [
      "5\n",
      "6\n",
      "7\n",
      "10\n",
      "15\n"
     ]
    }
   ],
   "source": [
    "numbers = [5, 6, 7, 10, 15, 25]\n",
    "\n",
    "for number in numbers:\n",
    "    print(number)\n",
    "    if number > 10:\n",
    "        break"
   ]
  },
  {
   "cell_type": "code",
   "execution_count": 24,
   "id": "d16d7edd-9669-431d-a31f-f5b9bebc7f3b",
   "metadata": {},
   "outputs": [
    {
     "name": "stdout",
     "output_type": "stream",
     "text": [
      "5\n",
      "6\n",
      "7\n",
      "10\n"
     ]
    }
   ],
   "source": [
    "numbers = [5, 6, 7, 10, 15, 25]\n",
    "\n",
    "for number in numbers:\n",
    "    if number > 10:\n",
    "        break\n",
    "    print(number)"
   ]
  },
  {
   "cell_type": "code",
   "execution_count": 25,
   "id": "b65d66ec-868d-4291-a10c-23207dd04a19",
   "metadata": {},
   "outputs": [
    {
     "name": "stdout",
     "output_type": "stream",
     "text": [
      "15\n",
      "10\n",
      "25\n"
     ]
    }
   ],
   "source": [
    "numbers = [5, 15, 7, 10, 8, 25]\n",
    "\n",
    "for number in numbers:\n",
    "    if number < 10:\n",
    "        continue\n",
    "    print(number)"
   ]
  },
  {
   "cell_type": "markdown",
   "id": "24d1dc02-f02e-47bb-919a-aba1afea6e9e",
   "metadata": {},
   "source": [
    "# 함수 만들기\n",
    "- 공식문서 보실 때 필수 확인사항 2가지\n",
    "    + 매개변수 입력 방법(or 자료형)\n",
    "    + 반환값, 반환되는 자료형의 형태(int, str, array, list, DataFrame, etc)"
   ]
  },
  {
   "cell_type": "code",
   "execution_count": 26,
   "id": "6e1743ea-4c34-47ee-bc45-4eaeedb77e15",
   "metadata": {},
   "outputs": [
    {
     "data": {
      "text/plain": [
       "5"
      ]
     },
     "execution_count": 26,
     "metadata": {},
     "output_type": "execute_result"
    }
   ],
   "source": [
    "text = \"안녕하세요\"\n",
    "len(text)"
   ]
  },
  {
   "cell_type": "markdown",
   "id": "c7dec8ae-ca8f-4aea-b385-2ab043f1255b",
   "metadata": {},
   "source": [
    "a함수 ==> 리스트 ==> 문자열 변경\n",
    "\n",
    "b함수 매개변수 문자열"
   ]
  },
  {
   "cell_type": "code",
   "execution_count": 28,
   "id": "6c75a3fc-d5c2-49dd-8860-88856cc7e58b",
   "metadata": {},
   "outputs": [
    {
     "name": "stdout",
     "output_type": "stream",
     "text": [
      "3\n"
     ]
    }
   ],
   "source": [
    "def add(a, b):\n",
    "    \"\"\"\n",
    "    Add two numbers.\n",
    "\n",
    "    Args:\n",
    "        a (int or float): The first number.\n",
    "        b (int or float): The second number.\n",
    "\n",
    "    Returns:\n",
    "        int or float: The sum of the two numbers.\n",
    "\n",
    "    Examples:\n",
    "        >>> add(1, 2)\n",
    "        3\n",
    "        >>> add(3.5, 2.5)\n",
    "        6.0\n",
    "    \"\"\"\n",
    "    return a + b\n",
    "\n",
    "# Example usage\n",
    "print(add(1, 2))"
   ]
  },
  {
   "cell_type": "code",
   "execution_count": 30,
   "id": "41d51fd9-5c78-4256-9699-7ed0a0ad845f",
   "metadata": {},
   "outputs": [
    {
     "name": "stdout",
     "output_type": "stream",
     "text": [
      "\n",
      "    Add two numbers.\n",
      "\n",
      "    Args:\n",
      "        a (int or float): The first number.\n",
      "        b (int or float): The second number.\n",
      "\n",
      "    Returns:\n",
      "        int or float: The sum of the two numbers.\n",
      "\n",
      "    Examples:\n",
      "        >>> add(1, 2)\n",
      "        3\n",
      "        >>> add(3.5, 2.5)\n",
      "        6.0\n",
      "    \n"
     ]
    }
   ],
   "source": [
    "print(add.__doc__)"
   ]
  },
  {
   "cell_type": "markdown",
   "id": "62d51b9b-0800-4d93-abd7-d0d427832329",
   "metadata": {},
   "source": [
    "## 에러 유형 확인"
   ]
  },
  {
   "cell_type": "code",
   "execution_count": 31,
   "id": "8f1ac5db-d004-4cf6-b852-e89efcd89003",
   "metadata": {},
   "outputs": [
    {
     "name": "stdout",
     "output_type": "stream",
     "text": [
      "안녕하세요\n",
      "안녕하세요\n",
      "안녕하세요\n",
      "안녕하세요\n",
      "안녕하세요\n"
     ]
    }
   ],
   "source": [
    "def print_n_times(value, n):\n",
    "    for i in range(n):\n",
    "        print(value)\n",
    "\n",
    "print_n_times(\"안녕하세요\", 5)"
   ]
  },
  {
   "cell_type": "code",
   "execution_count": 32,
   "id": "a9790b31-6a59-4026-8549-dc711657bc00",
   "metadata": {},
   "outputs": [
    {
     "ename": "TypeError",
     "evalue": "print_n_times() missing 1 required positional argument: 'n'",
     "output_type": "error",
     "traceback": [
      "\u001b[1;31m---------------------------------------------------------------------------\u001b[0m",
      "\u001b[1;31mTypeError\u001b[0m                                 Traceback (most recent call last)",
      "Cell \u001b[1;32mIn[32], line 5\u001b[0m\n\u001b[0;32m      2\u001b[0m     \u001b[38;5;28;01mfor\u001b[39;00m i \u001b[38;5;129;01min\u001b[39;00m \u001b[38;5;28mrange\u001b[39m(n):\n\u001b[0;32m      3\u001b[0m         \u001b[38;5;28mprint\u001b[39m(value)\n\u001b[1;32m----> 5\u001b[0m \u001b[43mprint_n_times\u001b[49m\u001b[43m(\u001b[49m\u001b[38;5;124;43m\"\u001b[39;49m\u001b[38;5;124;43m안녕하세요\u001b[39;49m\u001b[38;5;124;43m\"\u001b[39;49m\u001b[43m)\u001b[49m\n",
      "\u001b[1;31mTypeError\u001b[0m: print_n_times() missing 1 required positional argument: 'n'"
     ]
    }
   ],
   "source": [
    "def print_n_times(value, n):\n",
    "    for i in range(n):\n",
    "        print(value)\n",
    "\n",
    "print_n_times(\"안녕하세요\")"
   ]
  },
  {
   "cell_type": "code",
   "execution_count": 33,
   "id": "9fec5629-6beb-4f9b-a89b-2377e2287ba5",
   "metadata": {},
   "outputs": [
    {
     "ename": "TypeError",
     "evalue": "print_n_times() takes 2 positional arguments but 3 were given",
     "output_type": "error",
     "traceback": [
      "\u001b[1;31m---------------------------------------------------------------------------\u001b[0m",
      "\u001b[1;31mTypeError\u001b[0m                                 Traceback (most recent call last)",
      "Cell \u001b[1;32mIn[33], line 5\u001b[0m\n\u001b[0;32m      2\u001b[0m     \u001b[38;5;28;01mfor\u001b[39;00m i \u001b[38;5;129;01min\u001b[39;00m \u001b[38;5;28mrange\u001b[39m(n):\n\u001b[0;32m      3\u001b[0m         \u001b[38;5;28mprint\u001b[39m(value)\n\u001b[1;32m----> 5\u001b[0m \u001b[43mprint_n_times\u001b[49m\u001b[43m(\u001b[49m\u001b[38;5;124;43m\"\u001b[39;49m\u001b[38;5;124;43m안녕하세요\u001b[39;49m\u001b[38;5;124;43m\"\u001b[39;49m\u001b[43m,\u001b[49m\u001b[43m \u001b[49m\u001b[38;5;241;43m10\u001b[39;49m\u001b[43m,\u001b[49m\u001b[43m \u001b[49m\u001b[38;5;241;43m20\u001b[39;49m\u001b[43m)\u001b[49m\n",
      "\u001b[1;31mTypeError\u001b[0m: print_n_times() takes 2 positional arguments but 3 were given"
     ]
    }
   ],
   "source": [
    "def print_n_times(value, n):\n",
    "    for i in range(n):\n",
    "        print(value)\n",
    "\n",
    "print_n_times(\"안녕하세요\", 10, 20)"
   ]
  },
  {
   "cell_type": "markdown",
   "id": "ad1f945c-a620-4448-940b-b2ed9231663c",
   "metadata": {},
   "source": [
    "## 가변 매개변수\n",
    "- *를 매개변수에 추가"
   ]
  },
  {
   "cell_type": "code",
   "execution_count": 37,
   "id": "c5fe9bed-529b-427e-9fa2-179316ac6595",
   "metadata": {},
   "outputs": [],
   "source": [
    "def print_n_times(n, *values):\n",
    "    for i in range(n):\n",
    "        for value in values:\n",
    "            print(value)\n",
    "        print()"
   ]
  },
  {
   "cell_type": "code",
   "execution_count": 46,
   "id": "4b30d353-77f6-45d9-9ab1-b450d1092f23",
   "metadata": {},
   "outputs": [
    {
     "name": "stdout",
     "output_type": "stream",
     "text": [
      "<class 'tuple'>\n"
     ]
    },
    {
     "data": {
      "text/plain": [
       "10"
      ]
     },
     "execution_count": 46,
     "metadata": {},
     "output_type": "execute_result"
    }
   ],
   "source": [
    "def add_many(*nums):\n",
    "    result = 0\n",
    "    print(type(nums))\n",
    "    for num in nums:\n",
    "        result += num \n",
    "\n",
    "    return result \n",
    "\n",
    "add_many(1, 2, 3, 4)"
   ]
  },
  {
   "cell_type": "markdown",
   "id": "75516253-d1f3-4a55-a123-5f8cd5625b1f",
   "metadata": {},
   "source": [
    "## 키워드 매개변수 **kwargs\n",
    "- 매개변수 앞에 ** 두개 붙인 케이스"
   ]
  },
  {
   "cell_type": "code",
   "execution_count": 42,
   "id": "06438576-0bf6-4c15-9586-3cbe4ff1e657",
   "metadata": {},
   "outputs": [],
   "source": [
    "def print_kwargs(**kwargs):\n",
    "\n",
    "    # 이 메서드에는 return 값이 없음 \n",
    "    print(kwargs) # 어떻게 출력이 될까? "
   ]
  },
  {
   "cell_type": "code",
   "execution_count": 44,
   "id": "a4b64baf-c466-41b9-9dae-f5fcdedcbfff",
   "metadata": {},
   "outputs": [
    {
     "name": "stdout",
     "output_type": "stream",
     "text": [
      "{'a': 1, 'b': [1, 2, 3]}\n"
     ]
    }
   ],
   "source": [
    "print_kwargs(a = 1, b = [1, 2, 3])"
   ]
  },
  {
   "cell_type": "code",
   "execution_count": 57,
   "id": "3dfea393-e3ed-42c1-8ab8-df2cf223e779",
   "metadata": {},
   "outputs": [
    {
     "name": "stdout",
     "output_type": "stream",
     "text": [
      "111\n"
     ]
    }
   ],
   "source": [
    "def test1(a, b = 10, c = 100):\n",
    "\n",
    "    # 값을 전달할 필요가 없고, 단순 확인용도로만 함수를 만들고 싶으면 print()\n",
    "    print(a + b + c)\n",
    "\n",
    "# test1(1)\n",
    "result = test1(1)\n",
    "result"
   ]
  },
  {
   "cell_type": "code",
   "execution_count": 58,
   "id": "073e8f8e-6885-427d-88b0-96ac17460c85",
   "metadata": {},
   "outputs": [
    {
     "data": {
      "text/plain": [
       "111"
      ]
     },
     "execution_count": 58,
     "metadata": {},
     "output_type": "execute_result"
    }
   ],
   "source": [
    "def test2(a, b = 10, c = 100):\n",
    "\n",
    "    # 값을 전달해야만 할 때는 return 값을 지정\n",
    "    return a + b + c\n",
    "\n",
    "result = test2(1)\n",
    "result"
   ]
  },
  {
   "cell_type": "markdown",
   "id": "d41dc97f-9bba-4d80-955c-b43d481ddcc3",
   "metadata": {},
   "source": [
    "## why 클래스? \n",
    "\n",
    "- 함수, 반복문만 적절하게 사용해도 큰 문제 안됨\n",
    "- why 클래스?\n",
    "  + 한줄로 요약 : 자동화 / 많은 사람들이 사용할 수 있도록 배포"
   ]
  },
  {
   "cell_type": "code",
   "execution_count": 59,
   "id": "b924518f-c82c-47cf-b684-f74fbd3d3974",
   "metadata": {},
   "outputs": [
    {
     "name": "stdout",
     "output_type": "stream",
     "text": [
      "3\n",
      "7\n"
     ]
    }
   ],
   "source": [
    "result = 0\n",
    "\n",
    "def add(num):\n",
    "    global result # 전역변수 \n",
    "    result += num # 결괏값에 입력값 num 더하기\n",
    "    return result \n",
    "\n",
    "print(add(3))\n",
    "print(add(4))"
   ]
  },
  {
   "cell_type": "code",
   "execution_count": 67,
   "id": "686930d4-b797-4263-9430-383d97467538",
   "metadata": {},
   "outputs": [
    {
     "name": "stdout",
     "output_type": "stream",
     "text": [
      "3\n",
      "5\n",
      "7\n",
      "9\n",
      "-93\n"
     ]
    }
   ],
   "source": [
    "result1 = 0\n",
    "result2 = 0 \n",
    "result3 = 0\n",
    "\n",
    "def add1(num):\n",
    "    global result1 # 전역변수 \n",
    "    result1 += num # 결괏값에 입력값 num 더하기\n",
    "    return result1\n",
    "\n",
    "def sub1(num):\n",
    "    global result1\n",
    "    result1 -= num\n",
    "    return result1\n",
    "\n",
    "def add2(num):\n",
    "    global result2 # 전역변수 \n",
    "    result2 += num # 결괏값에 입력값 num 더하기\n",
    "    return result2\n",
    "\n",
    "def add2(num):\n",
    "    global result2 # 전역변수 \n",
    "    result2 += num # 결괏값에 입력값 num 더하기\n",
    "    return result2\n",
    "\n",
    "print(add1(3)) # 첫번째 사람\n",
    "print(add2(5)) # 두번째 사람\n",
    "print(add1(4)) # 첫번째 사람\n",
    "print(add2(4)) # 두번째 사람\n",
    "\n",
    "\n",
    "print(sub1(100))"
   ]
  },
  {
   "cell_type": "code",
   "execution_count": 64,
   "id": "43e101bc-2ec1-47c7-9f1f-3d3da9c3ac85",
   "metadata": {},
   "outputs": [
    {
     "name": "stdout",
     "output_type": "stream",
     "text": [
      "4\n",
      "9\n"
     ]
    }
   ],
   "source": [
    "result3 = 0\n",
    "\n",
    "def add3(num):\n",
    "    global result3 # 전역변수 \n",
    "    result3 += num # 결괏값에 입력값 num 더하기\n",
    "    return result3\n",
    "\n",
    "print(add3(4)) # 세번째 사람\n",
    "print(add3(5)) # 세번째 사람"
   ]
  },
  {
   "cell_type": "markdown",
   "id": "9c85dbb5-a599-4285-aa44-911547f598ec",
   "metadata": {},
   "source": [
    "## 클래스 만들기"
   ]
  },
  {
   "cell_type": "code",
   "execution_count": 69,
   "id": "880b0e22-e362-4074-bb21-74b577b6f185",
   "metadata": {},
   "outputs": [
    {
     "name": "stdout",
     "output_type": "stream",
     "text": [
      "3\n",
      "7\n",
      "5\n",
      "9\n",
      "-91\n"
     ]
    }
   ],
   "source": [
    "class Calculator:\n",
    "    def __init__(self):\n",
    "        self.result = 0\n",
    "\n",
    "    def add(self, num):\n",
    "        self.result += num\n",
    "        return self.result\n",
    "\n",
    "    # 새롭게 추가가 된 메서드 ==> 업데이트\n",
    "    def sub(self, num):\n",
    "        self.result -= num\n",
    "        return self.result\n",
    "\n",
    "# 사용자1\n",
    "cal1 = Calculator() # 첫번째 사용자\n",
    "cal2 = Calculator() # 두번째 사용자 \n",
    "cal3 = Calculator() # 세번째 사용자\n",
    "\n",
    "print(cal1.add(3))\n",
    "print(cal1.add(4))\n",
    "print(cal2.add(5))\n",
    "print(cal2.add(4))\n",
    "print(cal2.sub(100))"
   ]
  },
  {
   "cell_type": "code",
   "execution_count": 70,
   "id": "f43e2d65-8bc4-4495-a8cd-b0711810b53c",
   "metadata": {},
   "outputs": [],
   "source": [
    "class StudentGrade: # CamelCase로 이름 명명\n",
    "    pass"
   ]
  },
  {
   "cell_type": "code",
   "execution_count": null,
   "id": "b4a63669-2008-4680-8a8e-324455c0feee",
   "metadata": {},
   "outputs": [],
   "source": [
    "인스턴스 이름(=변수 이름) = 클래스 이름() --> 생성자 함수 "
   ]
  },
  {
   "cell_type": "code",
   "execution_count": null,
   "id": "1119bd26-a172-4b9f-9a10-7496c94610c3",
   "metadata": {},
   "outputs": [],
   "source": [
    "class Student:\n",
    "    pass\n",
    "\n",
    "# 학생을 선언합니다. \n",
    "희교 = Student() ## 하나의 의미있는 객체 \n",
    "성민 = Student() ## 하나의 의미있는 객체 \n",
    "승훈 = Student() ## 하나의 의미있는 객체 \n"
   ]
  },
  {
   "cell_type": "code",
   "execution_count": 93,
   "id": "5d6090ae-c4b7-451e-a4da-4ba4029456f2",
   "metadata": {},
   "outputs": [],
   "source": [
    "class Student:\n",
    "    # 상태\n",
    "    def __init__(self, name, korean, math, english, science):\n",
    "        self.name = name             \n",
    "        self.korean = korean          # 87\n",
    "        self.math = math              # 98\n",
    "        self.english = english        # 88 \n",
    "        self.science = science        # 95\n",
    "    \n",
    "    # 행동\n",
    "    def get_sum(self):\n",
    "        return self.korean + self.math + self.english + self.science\n",
    "\n",
    "    def get_average(self):\n",
    "        return self.get_sum() / 4\n",
    "        \n",
    "    def get_grade(self): \n",
    "        grade = None\n",
    "        if self.get_average() > 90:\n",
    "            grade = 'A'\n",
    "        else:\n",
    "            grade = 'F'\n",
    "\n",
    "        return grade\n",
    "\n",
    "    def __str__(self): \n",
    "        return \"{}\\t{}\\t{}\\t\".format(self.name, self.get_sum(), self.get_average())\n",
    "        \n"
   ]
  },
  {
   "cell_type": "code",
   "execution_count": 94,
   "id": "b85b8775-f7aa-451f-9ce4-53d72465cab5",
   "metadata": {},
   "outputs": [],
   "source": [
    "students = [\n",
    "    Student(\"윤인성\", 87, 98, 88, 95), \n",
    "    Student(\"Evan\", 50, 20, 15, 40), \n",
    "    Student(\"윤인성1\", 100, 98, 88, 95), \n",
    "    Student(\"Evan1\", 100, 20, 15, 40), \n",
    "]"
   ]
  },
  {
   "cell_type": "code",
   "execution_count": 100,
   "id": "2f8b3951-8b45-4ee5-aac0-e9c4164de5ca",
   "metadata": {},
   "outputs": [
    {
     "name": "stdout",
     "output_type": "stream",
     "text": [
      "윤인성 A 368 92.0\n",
      "Evan F 125 31.25\n",
      "윤인성1 A 381 95.25\n",
      "Evan1 F 175 43.75\n"
     ]
    }
   ],
   "source": [
    "for i in range(0, len(students)):\n",
    "    print(students[i].name, students[i].get_grade(), students[i].get_sum(), students[i].get_average())"
   ]
  },
  {
   "cell_type": "code",
   "execution_count": 95,
   "id": "f7dd4e16-8003-423a-8ce8-6012a94f4c15",
   "metadata": {},
   "outputs": [
    {
     "data": {
      "text/plain": [
       "('F', 125, 31.25)"
      ]
     },
     "execution_count": 95,
     "metadata": {},
     "output_type": "execute_result"
    }
   ],
   "source": [
    "students[1].get_grade(), students[1].get_sum(), students[1].get_average()"
   ]
  },
  {
   "cell_type": "code",
   "execution_count": 96,
   "id": "e2ec7c13-5eae-49bc-99cc-860b6ebe7b1c",
   "metadata": {},
   "outputs": [
    {
     "data": {
      "text/plain": [
       "('A', 381, 95.25)"
      ]
     },
     "execution_count": 96,
     "metadata": {},
     "output_type": "execute_result"
    }
   ],
   "source": [
    "students[2].get_grade(), students[2].get_sum(), students[2].get_average()"
   ]
  },
  {
   "cell_type": "code",
   "execution_count": 97,
   "id": "922c28df-0e5c-4b10-8d33-672d7cac41ef",
   "metadata": {},
   "outputs": [
    {
     "data": {
      "text/plain": [
       "('F', 175, 43.75)"
      ]
     },
     "execution_count": 97,
     "metadata": {},
     "output_type": "execute_result"
    }
   ],
   "source": [
    "students[3].get_grade(), students[3].get_sum(), students[3].get_average()"
   ]
  },
  {
   "cell_type": "markdown",
   "id": "24f354c8-2c9d-4d93-969b-78775f4b574f",
   "metadata": {},
   "source": [
    "## 인스턴스 확인\n",
    "- isinstance(인스턴스, 클래스)"
   ]
  },
  {
   "cell_type": "code",
   "execution_count": 101,
   "id": "7bf8658e-fa2e-4252-ba27-8f4a0acde35d",
   "metadata": {},
   "outputs": [
    {
     "data": {
      "text/plain": [
       "True"
      ]
     },
     "execution_count": 101,
     "metadata": {},
     "output_type": "execute_result"
    }
   ],
   "source": [
    "class Student:\n",
    "    def __init__(self):\n",
    "        pass \n",
    "\n",
    "student = Student()\n",
    "isinstance(student, Student)"
   ]
  },
  {
   "cell_type": "code",
   "execution_count": 103,
   "id": "471b520f-a3bb-4c75-964a-7a310e6d4014",
   "metadata": {},
   "outputs": [
    {
     "data": {
      "text/plain": [
       "True"
      ]
     },
     "execution_count": 103,
     "metadata": {},
     "output_type": "execute_result"
    }
   ],
   "source": [
    "isinstance(student, Calculator)"
   ]
  },
  {
   "cell_type": "code",
   "execution_count": 104,
   "id": "8d89b871-1ece-413e-bb92-2835f8c71da3",
   "metadata": {},
   "outputs": [],
   "source": [
    "# 상속 문법\n",
    "class Human:\n",
    "    def __init__(self):\n",
    "        pass \n",
    "\n",
    "class Student(Human):\n",
    "    def __init__(self):\n",
    "        pass "
   ]
  },
  {
   "cell_type": "markdown",
   "id": "67c65cd8-135a-4f7f-9f0c-4d80b77967b4",
   "metadata": {},
   "source": [
    "## 상속 문법 확인\n",
    "- page 497"
   ]
  },
  {
   "cell_type": "code",
   "execution_count": null,
   "id": "be51edab-15bd-46d7-ae56-8311b5a6a2e0",
   "metadata": {},
   "outputs": [],
   "source": [
    "class Parent:\n",
    "    pass\n",
    "\n",
    "class Child(Parent):\n",
    "    def __init__(self):\n",
    "        super().__init__() "
   ]
  }
 ],
 "metadata": {
  "kernelspec": {
   "display_name": "Python 3 (ipykernel)",
   "language": "python",
   "name": "python3"
  },
  "language_info": {
   "codemirror_mode": {
    "name": "ipython",
    "version": 3
   },
   "file_extension": ".py",
   "mimetype": "text/x-python",
   "name": "python",
   "nbconvert_exporter": "python",
   "pygments_lexer": "ipython3",
   "version": "3.11.7"
  }
 },
 "nbformat": 4,
 "nbformat_minor": 5
}
