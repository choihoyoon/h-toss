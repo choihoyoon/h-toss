{
 "cells": [
  {
   "cell_type": "markdown",
   "id": "ddd88121-8f3a-4a0f-8006-ee0c7d83b306",
   "metadata": {},
   "source": [
    "# 목차1 - 식별자\n",
    "- 식별자에 대해 배웁니다. "
   ]
  },
  {
   "cell_type": "code",
   "execution_count": 1,
   "id": "0bde4d19-9524-4d18-9586-6af9e027aecf",
   "metadata": {},
   "outputs": [
    {
     "data": {
      "text/plain": [
       "2"
      ]
     },
     "execution_count": 1,
     "metadata": {},
     "output_type": "execute_result"
    }
   ],
   "source": [
    "1+1"
   ]
  },
  {
   "cell_type": "markdown",
   "id": "1ae862e4-7ea4-46a9-8b3e-253c8acdf9fb",
   "metadata": {},
   "source": [
    "## 스네이크 케이스와 캐멀 케이스 \n",
    "- 각 프로그래밍 언어마다 양식이 존재함\n",
    "- 클래스를 정의할 때, 앞문자가 대문자여야 함 / CamelCase\n",
    "- 함수를 정의할 때, snake_case 방식으로 사용해라"
   ]
  },
  {
   "cell_type": "markdown",
   "id": "6ce2454b-bf40-420f-ac33-8d6b104bab21",
   "metadata": {},
   "source": [
    "# 목차2 - 식별자 구분하기"
   ]
  },
  {
   "cell_type": "code",
   "execution_count": null,
   "id": "14357551-0fe7-4c46-b101-c20294d38dca",
   "metadata": {},
   "outputs": [],
   "source": [
    "print() # 소문자\n",
    "list() # 소문자\n",
    "class Animal: # 대문자\n",
    "BeautifulSoup() # 대문자/ CamelCase"
   ]
  },
  {
   "cell_type": "markdown",
   "id": "ee6d840f-f98c-47e1-8807-d7e8b77bf5fd",
   "metadata": {},
   "source": [
    "# 입력과 출력\n",
    "- input() : 입력\n",
    "- print() : 출력"
   ]
  },
  {
   "cell_type": "code",
   "execution_count": 2,
   "id": "8a38ee3c-81a1-4a4b-97a8-8226dcfe4349",
   "metadata": {},
   "outputs": [
    {
     "name": "stdin",
     "output_type": "stream",
     "text": [
      "아무것나 입력하세요!!! fdjkajfkldajfd\n"
     ]
    },
    {
     "name": "stdout",
     "output_type": "stream",
     "text": [
      "fdjkajfkldajfd\n"
     ]
    }
   ],
   "source": [
    "var1 = input(\"아무것나 입력하세요!!!\")\n",
    "print(var1)"
   ]
  },
  {
   "cell_type": "markdown",
   "id": "836838d6-9bb5-484f-a02a-68aecc9d3909",
   "metadata": {},
   "source": [
    "- 숫자 출력할 때와 문자를 출력할 때가 다름"
   ]
  },
  {
   "cell_type": "code",
   "execution_count": 3,
   "id": "939dfc75-1651-4c4e-bbcf-3bb53df2cde6",
   "metadata": {},
   "outputs": [
    {
     "name": "stdout",
     "output_type": "stream",
     "text": [
      "# 하나만 출력합니다\n",
      "\n",
      "10 20 30\n"
     ]
    }
   ],
   "source": [
    "print(\"# 하나만 출력합니다\")\n",
    "print()\n",
    "print(10, 20, 30)"
   ]
  },
  {
   "cell_type": "markdown",
   "id": "4592a272-a1a8-483b-b6c5-55dc880e46e1",
   "metadata": {},
   "source": [
    "# 자료형과 문자열\n",
    "- 숫자 : 물건의 가격\n",
    "- 문자 : 메시지 내용\n",
    "- 논리 / True or False"
   ]
  },
  {
   "cell_type": "code",
   "execution_count": 2,
   "id": "166caa3b-f01e-4a08-af1f-d51771218394",
   "metadata": {},
   "outputs": [
    {
     "name": "stdout",
     "output_type": "stream",
     "text": [
      "<class 'str'>\n"
     ]
    }
   ],
   "source": [
    "print(type(\"안녕하세요\"))"
   ]
  },
  {
   "cell_type": "code",
   "execution_count": 3,
   "id": "ef6e832a-e0ed-4f60-812f-22fbd4c91110",
   "metadata": {},
   "outputs": [
    {
     "name": "stdout",
     "output_type": "stream",
     "text": [
      "<class 'pandas.core.frame.DataFrame'>\n"
     ]
    },
    {
     "name": "stderr",
     "output_type": "stream",
     "text": [
      "C:\\Users\\pcuser\\AppData\\Local\\Temp\\ipykernel_16556\\4176926866.py:1: DeprecationWarning: \n",
      "Pyarrow will become a required dependency of pandas in the next major release of pandas (pandas 3.0),\n",
      "(to allow more performant data types, such as the Arrow string type, and better interoperability with other libraries)\n",
      "but was not found to be installed on your system.\n",
      "If this would cause problems for you,\n",
      "please provide us feedback at https://github.com/pandas-dev/pandas/issues/54466\n",
      "        \n",
      "  import pandas as pd\n"
     ]
    }
   ],
   "source": [
    "import pandas as pd \n",
    "df = pd.DataFrame({\n",
    "    'col1' : [1, 2, 3], \n",
    "    'col2' : [1, 2, 3], \n",
    "})\n",
    "\n",
    "print(type(df))"
   ]
  },
  {
   "cell_type": "markdown",
   "id": "6f19667b-3512-45fd-a966-2c626d5ad91a",
   "metadata": {},
   "source": [
    "## 문자열 만들기\n",
    "- 큰 따옴표 방식 / 작은 따옴표 방식\n",
    "- 결론부터 말하면, 지금은 크게 구분하지 않는다.\n",
    "- 주의해야 하는 것은 \"\", '' 식으로 매칭\n",
    "    + '\" <-- 이런것 안됨"
   ]
  },
  {
   "cell_type": "code",
   "execution_count": 5,
   "id": "34623852-c221-49b8-a940-1c320b9c007b",
   "metadata": {},
   "outputs": [
    {
     "ename": "SyntaxError",
     "evalue": "unterminated string literal (detected at line 1) (1309704189.py, line 1)",
     "output_type": "error",
     "traceback": [
      "\u001b[1;36m  Cell \u001b[1;32mIn[5], line 1\u001b[1;36m\u001b[0m\n\u001b[1;33m    print('안녕하세요\")\u001b[0m\n\u001b[1;37m          ^\u001b[0m\n\u001b[1;31mSyntaxError\u001b[0m\u001b[1;31m:\u001b[0m unterminated string literal (detected at line 1)\n"
     ]
    }
   ],
   "source": [
    "print('안녕하세요\") "
   ]
  },
  {
   "cell_type": "markdown",
   "id": "8fdfb8a1-1715-4e85-bca3-57e3b3abe0a1",
   "metadata": {},
   "source": [
    "- page89 확인"
   ]
  },
  {
   "cell_type": "code",
   "execution_count": 7,
   "id": "e0af4c52-7742-4159-a8f7-d806761d3589",
   "metadata": {},
   "outputs": [
    {
     "name": "stdout",
     "output_type": "stream",
     "text": [
      "\"안녕하세요\"라고 말했습니다\n"
     ]
    }
   ],
   "source": [
    "print('\"안녕하세요\"라고 말했습니다')"
   ]
  },
  {
   "cell_type": "code",
   "execution_count": 8,
   "id": "eff9cae8-44aa-4318-86b5-1292fb7397a0",
   "metadata": {},
   "outputs": [
    {
     "ename": "SyntaxError",
     "evalue": "unterminated string literal (detected at line 1) (1204233767.py, line 1)",
     "output_type": "error",
     "traceback": [
      "\u001b[1;36m  Cell \u001b[1;32mIn[8], line 1\u001b[1;36m\u001b[0m\n\u001b[1;33m    print('\"안녕하세요'라고 말했습니다')\u001b[0m\n\u001b[1;37m                          ^\u001b[0m\n\u001b[1;31mSyntaxError\u001b[0m\u001b[1;31m:\u001b[0m unterminated string literal (detected at line 1)\n"
     ]
    }
   ],
   "source": [
    "print('\"안녕하세요'라고 말했습니다')"
   ]
  },
  {
   "cell_type": "markdown",
   "id": "c6a627fe-5bc6-4e84-8e81-c8a8052054ee",
   "metadata": {},
   "source": [
    "## 이스케이프 문자\n",
    "- \\n : 줄바꿈\n",
    "- \\t : 탭\n",
    "- \\\\ : 역슬래시(\\)를 의미합니다."
   ]
  },
  {
   "cell_type": "code",
   "execution_count": 9,
   "id": "86d0c29f-3bfe-472f-9067-8ba67e767cd0",
   "metadata": {},
   "outputs": [
    {
     "name": "stdout",
     "output_type": "stream",
     "text": [
      "안녕하세요\n",
      "안녕하세요\n"
     ]
    }
   ],
   "source": [
    "print(\"안녕하세요\\n안녕하세요\")"
   ]
  },
  {
   "cell_type": "code",
   "execution_count": 10,
   "id": "c577ce23-e3bf-4de1-99d6-e0bbb4b80466",
   "metadata": {},
   "outputs": [
    {
     "name": "stdout",
     "output_type": "stream",
     "text": [
      "안녕하세요\t안녕하세요\n"
     ]
    }
   ],
   "source": [
    "print(\"안녕하세요\\t안녕하세요\")"
   ]
  },
  {
   "cell_type": "markdown",
   "id": "36685a2a-fbc7-4d76-b5db-1ad16ab68d0d",
   "metadata": {},
   "source": [
    "## 문자열 연산자 (중요)\n",
    "- 자주 사용함\n",
    "- 사칙연산 중에서 덧셈과 곱셈 사용 가능"
   ]
  },
  {
   "cell_type": "code",
   "execution_count": 11,
   "id": "30620f57-a3f5-4cf1-8802-be852ff9619e",
   "metadata": {},
   "outputs": [
    {
     "name": "stdout",
     "output_type": "stream",
     "text": [
      "4\n",
      "3\n",
      "18\n",
      "0.5\n"
     ]
    }
   ],
   "source": [
    "print(2+2)\n",
    "print(5-2)\n",
    "print(6*3)\n",
    "print(3/6)"
   ]
  },
  {
   "cell_type": "code",
   "execution_count": 12,
   "id": "1e4f5f9f-3ba6-45f5-b8ed-7787e0d3f72b",
   "metadata": {},
   "outputs": [
    {
     "name": "stdout",
     "output_type": "stream",
     "text": [
      "안녕하세요\n"
     ]
    }
   ],
   "source": [
    "print(\"안녕\" + \"하세요\")"
   ]
  },
  {
   "cell_type": "code",
   "execution_count": 13,
   "id": "877f3b25-e571-4658-b84b-e15c6f1fdd8c",
   "metadata": {},
   "outputs": [
    {
     "name": "stdout",
     "output_type": "stream",
     "text": [
      "안녕하세요\n"
     ]
    }
   ],
   "source": [
    "var1 = \"안녕\"\n",
    "var2 = \"하세요\"\n",
    "\n",
    "result = var1 + var2\n",
    "print(result)"
   ]
  },
  {
   "cell_type": "code",
   "execution_count": 16,
   "id": "5b3c325a-600a-46aa-93d6-f5c5102ccad4",
   "metadata": {},
   "outputs": [
    {
     "name": "stdout",
     "output_type": "stream",
     "text": [
      "1안녕\n"
     ]
    }
   ],
   "source": [
    "print(\"1안녕\")"
   ]
  },
  {
   "cell_type": "code",
   "execution_count": 18,
   "id": "621ed1c3-d5da-48d0-b441-bd8c7ba22734",
   "metadata": {},
   "outputs": [
    {
     "ename": "TypeError",
     "evalue": "unsupported operand type(s) for +: 'int' and 'str'",
     "output_type": "error",
     "traceback": [
      "\u001b[1;31m---------------------------------------------------------------------------\u001b[0m",
      "\u001b[1;31mTypeError\u001b[0m                                 Traceback (most recent call last)",
      "Cell \u001b[1;32mIn[18], line 4\u001b[0m\n\u001b[0;32m      1\u001b[0m num1 \u001b[38;5;241m=\u001b[39m \u001b[38;5;241m1\u001b[39m\n\u001b[0;32m      2\u001b[0m var1 \u001b[38;5;241m=\u001b[39m \u001b[38;5;124m\"\u001b[39m\u001b[38;5;124m안녕\u001b[39m\u001b[38;5;124m\"\u001b[39m\n\u001b[1;32m----> 4\u001b[0m result \u001b[38;5;241m=\u001b[39m \u001b[43mnum1\u001b[49m\u001b[43m \u001b[49m\u001b[38;5;241;43m+\u001b[39;49m\u001b[43m \u001b[49m\u001b[43mvar1\u001b[49m\n\u001b[0;32m      5\u001b[0m \u001b[38;5;28mprint\u001b[39m(result)\n",
      "\u001b[1;31mTypeError\u001b[0m: unsupported operand type(s) for +: 'int' and 'str'"
     ]
    }
   ],
   "source": [
    "num1 = 1\n",
    "var1 = \"안녕\"\n",
    "\n",
    "result = num1 + var1\n",
    "print(result)"
   ]
  },
  {
   "cell_type": "code",
   "execution_count": 19,
   "id": "d8300583-54a8-481a-909d-b2c793835759",
   "metadata": {},
   "outputs": [
    {
     "name": "stdout",
     "output_type": "stream",
     "text": [
      "1안녕\n"
     ]
    }
   ],
   "source": [
    "num1 = \"1\"\n",
    "var1 = \"안녕\"\n",
    "\n",
    "result = num1 + var1\n",
    "print(result)"
   ]
  },
  {
   "cell_type": "code",
   "execution_count": 26,
   "id": "7da1d329-4c3e-487f-be41-90129b02158f",
   "metadata": {},
   "outputs": [
    {
     "name": "stdout",
     "output_type": "stream",
     "text": [
      "<class 'str'>\n"
     ]
    }
   ],
   "source": [
    "num3 = \"1\"\n",
    "print(type(num3))"
   ]
  },
  {
   "cell_type": "code",
   "execution_count": 23,
   "id": "7f5f51a3-f735-41f9-a525-972849465f8e",
   "metadata": {},
   "outputs": [
    {
     "name": "stdout",
     "output_type": "stream",
     "text": [
      "1안녕\n"
     ]
    }
   ],
   "source": [
    "num1 = 1\n",
    "var1 = \"안녕\"\n",
    "\n",
    "result = str(num1) + var1\n",
    "print(result)"
   ]
  },
  {
   "cell_type": "code",
   "execution_count": 24,
   "id": "6258c895-b5c4-437e-b40d-d4982b8deadd",
   "metadata": {},
   "outputs": [
    {
     "name": "stdout",
     "output_type": "stream",
     "text": [
      "2\n"
     ]
    }
   ],
   "source": [
    "num2 = 1\n",
    "result = num1 + num2\n",
    "print(result)"
   ]
  },
  {
   "cell_type": "code",
   "execution_count": 14,
   "id": "f4cb7023-66ad-45e4-8776-a65dac82eeaa",
   "metadata": {},
   "outputs": [
    {
     "name": "stdout",
     "output_type": "stream",
     "text": [
      "안녕안녕안녕\n"
     ]
    }
   ],
   "source": [
    "var1 = \"안녕\"\n",
    "var2 = \"하세요\"\n",
    "\n",
    "result = var1 * 3\n",
    "print(result)"
   ]
  },
  {
   "cell_type": "markdown",
   "id": "ce6b8071-83ec-46f6-bd7d-d1a2de2a9cdf",
   "metadata": {},
   "source": [
    "## 문자 선택 연산자(인덱싱): [] \n",
    "- 리스트, 튜플 등등 원리는 동일"
   ]
  },
  {
   "cell_type": "code",
   "execution_count": 31,
   "id": "9d9f141a-3d41-4b49-bef7-dd8a9730416f",
   "metadata": {},
   "outputs": [
    {
     "name": "stdout",
     "output_type": "stream",
     "text": [
      "안\n",
      "세\n"
     ]
    }
   ],
   "source": [
    "var1 = \"안녕하세요\"\n",
    "print(var1[0]) \n",
    "print(var1[3]) "
   ]
  },
  {
   "cell_type": "code",
   "execution_count": 32,
   "id": "adf32479-8c78-4013-ad00-8cbbddfbaf72",
   "metadata": {},
   "outputs": [
    {
     "name": "stdout",
     "output_type": "stream",
     "text": [
      "요\n",
      "세\n"
     ]
    }
   ],
   "source": [
    "var1 = \"안녕하세요\"\n",
    "print(var1[-1]) \n",
    "print(var1[-2]) "
   ]
  },
  {
   "cell_type": "code",
   "execution_count": 35,
   "id": "db3cef27-14c9-4405-a174-1ee444846025",
   "metadata": {},
   "outputs": [
    {
     "name": "stdout",
     "output_type": "stream",
     "text": [
      " \n"
     ]
    }
   ],
   "source": [
    "var1 = \"Hello, Python!!!\"\n",
    "print(var1[6])"
   ]
  },
  {
   "cell_type": "markdown",
   "id": "2c6bf9ed-e733-4ed9-95a8-b064d3cb95dd",
   "metadata": {},
   "source": [
    "## 문자열 범위 선택(슬라이싱) [:]\n",
    "- 리스트, 튜플 등 자료형과 원리 동일"
   ]
  },
  {
   "cell_type": "code",
   "execution_count": 36,
   "id": "40e198ff-b54f-47d4-b734-228e4a8c6b20",
   "metadata": {},
   "outputs": [
    {
     "name": "stdout",
     "output_type": "stream",
     "text": [
      "ell\n"
     ]
    }
   ],
   "source": [
    "var1 = \"Hello, Python!!!\"\n",
    "print(var1[1:4])"
   ]
  },
  {
   "cell_type": "code",
   "execution_count": 38,
   "id": "bd900c29-8707-4d3d-b0f2-9b4876bf8936",
   "metadata": {},
   "outputs": [
    {
     "name": "stdout",
     "output_type": "stream",
     "text": [
      "Python!!!\n"
     ]
    }
   ],
   "source": [
    "var1 = \"Hello, Python!!!\"\n",
    "print(var1[7:])"
   ]
  },
  {
   "cell_type": "code",
   "execution_count": 39,
   "id": "fa3249f2-ff25-4753-8da4-d17cc9685970",
   "metadata": {},
   "outputs": [
    {
     "name": "stdout",
     "output_type": "stream",
     "text": [
      "Hello, \n"
     ]
    }
   ],
   "source": [
    "var1 = \"Hello, Python!!!\"\n",
    "print(var1[:7])"
   ]
  },
  {
   "cell_type": "code",
   "execution_count": 41,
   "id": "0a8e416a-674e-4a3f-a9f1-d9a474c3d19e",
   "metadata": {},
   "outputs": [
    {
     "ename": "IndexError",
     "evalue": "string index out of range",
     "output_type": "error",
     "traceback": [
      "\u001b[1;31m---------------------------------------------------------------------------\u001b[0m",
      "\u001b[1;31mIndexError\u001b[0m                                Traceback (most recent call last)",
      "Cell \u001b[1;32mIn[41], line 2\u001b[0m\n\u001b[0;32m      1\u001b[0m var1 \u001b[38;5;241m=\u001b[39m \u001b[38;5;124m\"\u001b[39m\u001b[38;5;124mHello, Python!!!\u001b[39m\u001b[38;5;124m\"\u001b[39m\n\u001b[1;32m----> 2\u001b[0m \u001b[38;5;28mprint\u001b[39m(\u001b[43mvar1\u001b[49m\u001b[43m[\u001b[49m\u001b[38;5;241;43m100\u001b[39;49m\u001b[43m]\u001b[49m)\n",
      "\u001b[1;31mIndexError\u001b[0m: string index out of range"
     ]
    }
   ],
   "source": [
    "var1 = \"Hello, Python!!!\"\n",
    "print(var1[100])"
   ]
  },
  {
   "cell_type": "code",
   "execution_count": 42,
   "id": "d70877c9-14e2-44c2-a290-bd173099018f",
   "metadata": {},
   "outputs": [
    {
     "data": {
      "text/plain": [
       "16"
      ]
     },
     "execution_count": 42,
     "metadata": {},
     "output_type": "execute_result"
    }
   ],
   "source": [
    "len(var1)"
   ]
  },
  {
   "cell_type": "code",
   "execution_count": 44,
   "id": "e0b7f30d-f414-4124-a942-333252695406",
   "metadata": {},
   "outputs": [
    {
     "name": "stdout",
     "output_type": "stream",
     "text": [
      "abababababababababab\n"
     ]
    }
   ],
   "source": [
    "var1 = \"abababababababababab\"\n",
    "print(var1[0::2])"
   ]
  },
  {
   "cell_type": "code",
   "execution_count": 46,
   "id": "04959d63-aac3-45bf-8d99-cac074dd8f2e",
   "metadata": {},
   "outputs": [
    {
     "name": "stdout",
     "output_type": "stream",
     "text": [
      "abababababababababab\n"
     ]
    }
   ],
   "source": [
    "var1 = \"abababababababababab\"\n",
    "print(var1[0:])"
   ]
  },
  {
   "cell_type": "code",
   "execution_count": 48,
   "id": "6e9afb4c-7eef-40e7-8561-e59f67d4738a",
   "metadata": {},
   "outputs": [
    {
     "name": "stdout",
     "output_type": "stream",
     "text": [
      "aaaaaaaaaa\n"
     ]
    }
   ],
   "source": [
    "var1 = \"abababababababababab\"\n",
    "print(var1[0::2])"
   ]
  },
  {
   "cell_type": "code",
   "execution_count": 49,
   "id": "09eb368d-ffb7-4cc7-886b-f9287affad5c",
   "metadata": {},
   "outputs": [
    {
     "name": "stdout",
     "output_type": "stream",
     "text": [
      "bbbbbbbbbb\n"
     ]
    }
   ],
   "source": [
    "var1 = \"abababababababababab\"\n",
    "print(var1[1::2])"
   ]
  },
  {
   "cell_type": "code",
   "execution_count": 47,
   "id": "3dc9ab21-4fc7-4d31-883a-2ef2141b1f95",
   "metadata": {},
   "outputs": [
    {
     "name": "stdout",
     "output_type": "stream",
     "text": [
      "aaaaaaaaaa\n"
     ]
    }
   ],
   "source": [
    "var1 = \"abababababababababab\"\n",
    "print(var1[::2])"
   ]
  },
  {
   "cell_type": "markdown",
   "id": "a75f6bde-b633-4951-8ca9-22b0ce46b5c9",
   "metadata": {},
   "source": [
    "# 자료형과 숫자"
   ]
  },
  {
   "cell_type": "markdown",
   "id": "32433804-e3db-4a87-8402-f64e162194b9",
   "metadata": {},
   "source": [
    "## 지수 표현"
   ]
  },
  {
   "cell_type": "code",
   "execution_count": 50,
   "id": "7f3b60bd-765e-42e4-88e6-c1c6385830c0",
   "metadata": {},
   "outputs": [
    {
     "data": {
      "text/plain": [
       "52.273"
      ]
     },
     "execution_count": 50,
     "metadata": {},
     "output_type": "execute_result"
    }
   ],
   "source": [
    "0.52273e2"
   ]
  },
  {
   "cell_type": "code",
   "execution_count": 51,
   "id": "694d0745-1c35-432b-90c2-bc33cfbda94c",
   "metadata": {},
   "outputs": [
    {
     "data": {
      "text/plain": [
       "0.0052273"
      ]
     },
     "execution_count": 51,
     "metadata": {},
     "output_type": "execute_result"
    }
   ],
   "source": [
    "0.52273e-2"
   ]
  },
  {
   "cell_type": "markdown",
   "id": "a9d2d260-8a01-4f0b-9648-ac153aa215c6",
   "metadata": {},
   "source": [
    "## 사칙연산"
   ]
  },
  {
   "cell_type": "code",
   "execution_count": 53,
   "id": "7548c177-6bfa-457b-9c29-eb7687a1996a",
   "metadata": {},
   "outputs": [
    {
     "data": {
      "text/plain": [
       "2.0"
      ]
     },
     "execution_count": 53,
     "metadata": {},
     "output_type": "execute_result"
    }
   ],
   "source": [
    "6/3"
   ]
  },
  {
   "cell_type": "code",
   "execution_count": 54,
   "id": "25d42216-ada2-473b-b22b-aa75326a34bb",
   "metadata": {},
   "outputs": [
    {
     "data": {
      "text/plain": [
       "9"
      ]
     },
     "execution_count": 54,
     "metadata": {},
     "output_type": "execute_result"
    }
   ],
   "source": [
    "6+3"
   ]
  },
  {
   "cell_type": "code",
   "execution_count": 55,
   "id": "d18c26c0-e82d-4439-a472-6fd6a876975d",
   "metadata": {},
   "outputs": [
    {
     "data": {
      "text/plain": [
       "5.0"
      ]
     },
     "execution_count": 55,
     "metadata": {},
     "output_type": "execute_result"
    }
   ],
   "source": [
    "2.0 + 3"
   ]
  },
  {
   "cell_type": "code",
   "execution_count": 57,
   "id": "81bc8724-7828-41e2-8834-43272f9eaea1",
   "metadata": {},
   "outputs": [
    {
     "data": {
      "text/plain": [
       "1"
      ]
     },
     "execution_count": 57,
     "metadata": {},
     "output_type": "execute_result"
    }
   ],
   "source": [
    "3 // 2 # // 나누기 연산자"
   ]
  },
  {
   "cell_type": "code",
   "execution_count": 59,
   "id": "8f80151e-f5c3-41db-9c4e-9a15a203acf3",
   "metadata": {},
   "outputs": [
    {
     "data": {
      "text/plain": [
       "2"
      ]
     },
     "execution_count": 59,
     "metadata": {},
     "output_type": "execute_result"
    }
   ],
   "source": [
    "5 % 3 # 나머지 연산자"
   ]
  },
  {
   "cell_type": "code",
   "execution_count": 61,
   "id": "2e86ab5f-83e2-4a17-90c2-542d55fcf980",
   "metadata": {},
   "outputs": [
    {
     "data": {
      "text/plain": [
       "4"
      ]
     },
     "execution_count": 61,
     "metadata": {},
     "output_type": "execute_result"
    }
   ],
   "source": [
    "2 ** 2"
   ]
  },
  {
   "cell_type": "code",
   "execution_count": 62,
   "id": "4750a963-9ed2-41db-888d-655d2c9afed4",
   "metadata": {},
   "outputs": [
    {
     "data": {
      "text/plain": [
       "9"
      ]
     },
     "execution_count": 62,
     "metadata": {},
     "output_type": "execute_result"
    }
   ],
   "source": [
    "3 ** 2"
   ]
  },
  {
   "cell_type": "code",
   "execution_count": 64,
   "id": "6619a4fd-22a5-4475-b349-03fee6425c0b",
   "metadata": {},
   "outputs": [
    {
     "name": "stdout",
     "output_type": "stream",
     "text": [
      "110\n"
     ]
    }
   ],
   "source": [
    "number = 100\n",
    "number = number + 10\n",
    "print(number)"
   ]
  },
  {
   "cell_type": "code",
   "execution_count": 65,
   "id": "57c3ff9b-f6b7-441d-aab8-fe1124b5a664",
   "metadata": {},
   "outputs": [
    {
     "name": "stdout",
     "output_type": "stream",
     "text": [
      "110\n"
     ]
    }
   ],
   "source": [
    "number = 100\n",
    "number += 10\n",
    "print(number)"
   ]
  },
  {
   "cell_type": "code",
   "execution_count": 67,
   "id": "4f750b00-a859-42a2-8cf9-bb268d11035a",
   "metadata": {},
   "outputs": [
    {
     "name": "stdout",
     "output_type": "stream",
     "text": [
      "안녕i\n"
     ]
    }
   ],
   "source": [
    "sample_text = \"안녕\"\n",
    "sample_text = sample_text + \"i\"\n",
    "print(sample_text)"
   ]
  },
  {
   "cell_type": "code",
   "execution_count": 68,
   "id": "e8ea6159-9b94-4675-82d0-12dfc265d248",
   "metadata": {},
   "outputs": [
    {
     "name": "stdout",
     "output_type": "stream",
     "text": [
      "안녕i\n"
     ]
    }
   ],
   "source": [
    "sample_text = \"안녕\"\n",
    "sample_text += \"i\"\n",
    "print(sample_text)"
   ]
  },
  {
   "cell_type": "markdown",
   "id": "8b0ef47b-2575-47b9-b7ef-4a1ba24f0974",
   "metadata": {},
   "source": [
    "## input() "
   ]
  },
  {
   "cell_type": "code",
   "execution_count": 70,
   "id": "8837f902-2595-43af-aa07-019370f04a1d",
   "metadata": {},
   "outputs": [
    {
     "name": "stdin",
     "output_type": "stream",
     "text": [
      "숫자를 입력하세요!! 5\n",
      "숫자를 입력하세요!! 5\n"
     ]
    },
    {
     "name": "stdout",
     "output_type": "stream",
     "text": [
      "10\n"
     ]
    }
   ],
   "source": [
    "num1 = input(\"숫자를 입력하세요!!\")\n",
    "num2 = int(input(\"숫자를 입력하세요!!\"))\n",
    "\n",
    "result = int(num1) + num2\n",
    "print(result)"
   ]
  },
  {
   "cell_type": "code",
   "execution_count": 71,
   "id": "bc812a84-a119-4d08-b625-a4a7c1b81a17",
   "metadata": {},
   "outputs": [
    {
     "name": "stdin",
     "output_type": "stream",
     "text": [
      "숫자를 입력하세요!! 5\n",
      "숫자를 입력하세요!! 5\n"
     ]
    },
    {
     "name": "stdout",
     "output_type": "stream",
     "text": [
      "<class 'str'> <class 'int'>\n",
      "10\n"
     ]
    }
   ],
   "source": [
    "num1 = input(\"숫자를 입력하세요!!\")\n",
    "num2 = int(input(\"숫자를 입력하세요!!\"))\n",
    "\n",
    "print(type(num1), type(num2))\n",
    "\n",
    "result = int(num1) + num2\n",
    "print(result)"
   ]
  },
  {
   "cell_type": "code",
   "execution_count": 74,
   "id": "16f3bdff-41d6-4c8e-a2da-c31cf2d9204e",
   "metadata": {},
   "outputs": [
    {
     "name": "stdout",
     "output_type": "stream",
     "text": [
      "52\n",
      "52.273\n"
     ]
    }
   ],
   "source": [
    "num1 = \"52\"\n",
    "num2 = \"52.273\"\n",
    "\n",
    "print(int(num1))\n",
    "print(float(num2))"
   ]
  },
  {
   "cell_type": "code",
   "execution_count": 76,
   "id": "4fd211cd-24ef-4a4d-b317-e38d848632fc",
   "metadata": {},
   "outputs": [
    {
     "name": "stdout",
     "output_type": "stream",
     "text": [
      "52.0\n"
     ]
    }
   ],
   "source": [
    "print(float(num1))"
   ]
  },
  {
   "cell_type": "markdown",
   "id": "ba4730b6-9c88-40ca-97d8-4d6fef151f33",
   "metadata": {},
   "source": [
    "- \"52.273\"처럼 소숫점이 있는 문자열은 바로 정수 변환이 안됨 (주의)\n",
    "    + 문자열 ==> 실수형 ==> 정수형"
   ]
  },
  {
   "cell_type": "code",
   "execution_count": 79,
   "id": "34b83552-4d8e-48ec-98ec-09c8b158bb1f",
   "metadata": {},
   "outputs": [
    {
     "ename": "ValueError",
     "evalue": "invalid literal for int() with base 10: '52.273'",
     "output_type": "error",
     "traceback": [
      "\u001b[1;31m---------------------------------------------------------------------------\u001b[0m",
      "\u001b[1;31mValueError\u001b[0m                                Traceback (most recent call last)",
      "Cell \u001b[1;32mIn[79], line 1\u001b[0m\n\u001b[1;32m----> 1\u001b[0m \u001b[38;5;28mprint\u001b[39m(\u001b[38;5;28;43mint\u001b[39;49m\u001b[43m(\u001b[49m\u001b[43mnum2\u001b[49m\u001b[43m)\u001b[49m)\n",
      "\u001b[1;31mValueError\u001b[0m: invalid literal for int() with base 10: '52.273'"
     ]
    }
   ],
   "source": [
    "print(int(num2))"
   ]
  },
  {
   "cell_type": "code",
   "execution_count": 81,
   "id": "b3e4d5d5-c4d1-464b-ba3d-d5bd7bf23990",
   "metadata": {},
   "outputs": [
    {
     "name": "stdout",
     "output_type": "stream",
     "text": [
      "52\n"
     ]
    }
   ],
   "source": [
    "print(int(float(num2)))"
   ]
  },
  {
   "cell_type": "markdown",
   "id": "68654995-d577-4e34-a8ee-ce0eda109a8c",
   "metadata": {},
   "source": [
    "# 문자열 포맷팅\n",
    "- 강사는 f-문자열 좋아함\n",
    "- `f'문자열{표현식}문자열'`"
   ]
  },
  {
   "cell_type": "code",
   "execution_count": 83,
   "id": "66fd7e99-6d22-4810-8efe-34a3c92959b3",
   "metadata": {},
   "outputs": [
    {
     "data": {
      "text/plain": [
       "'10'"
      ]
     },
     "execution_count": 83,
     "metadata": {},
     "output_type": "execute_result"
    }
   ],
   "source": [
    "# {} format() 함수 방식\n",
    "num1 = 10\n",
    "\"{}\".format(num1)"
   ]
  },
  {
   "cell_type": "code",
   "execution_count": 84,
   "id": "320eef2d-4878-4af4-8b0d-ff65dba59263",
   "metadata": {},
   "outputs": [
    {
     "data": {
      "text/plain": [
       "'10'"
      ]
     },
     "execution_count": 84,
     "metadata": {},
     "output_type": "execute_result"
    }
   ],
   "source": [
    "# f-문자열 방식\n",
    "num1 = 10\n",
    "f'{num1}'"
   ]
  },
  {
   "cell_type": "markdown",
   "id": "db76bf02-28dd-4be6-bde1-2d740753cfb9",
   "metadata": {},
   "source": [
    "# 문자열의 내장 메서드\n",
    "- 공식문서 꼭 확인"
   ]
  },
  {
   "cell_type": "code",
   "execution_count": 85,
   "id": "8370949a-c61f-421a-8c79-75a73c51894c",
   "metadata": {},
   "outputs": [
    {
     "name": "stdout",
     "output_type": "stream",
     "text": [
      "'12345' contains only digits: True\n",
      "'12345abc' contains only digits: False\n",
      "'98765' contains only digits: True\n"
     ]
    }
   ],
   "source": [
    "# Sample strings\n",
    "string1 = \"12345\"\n",
    "string2 = \"12345abc\"\n",
    "string3 = \"98765\"\n",
    "\n",
    "# Checking if the strings contain only digits\n",
    "result1 = string1.isdigit()\n",
    "result2 = string2.isdigit()\n",
    "result3 = string3.isdigit()\n",
    "\n",
    "# Printing the results\n",
    "print(f\"'{string1}' contains only digits: {result1}\")\n",
    "print(f\"'{string2}' contains only digits: {result2}\")\n",
    "print(f\"'{string3}' contains only digits: {result3}\")"
   ]
  },
  {
   "cell_type": "markdown",
   "id": "09cb8e30-f793-4419-9090-1fd8a9df410c",
   "metadata": {},
   "source": [
    "## 8교시에 할 것\n",
    "- 문자열 내장 메서드 익히기\n",
    "- f-문자열 익히기"
   ]
  },
  {
   "cell_type": "code",
   "execution_count": 86,
   "id": "55382f48-f089-49e3-88ad-6c773bf4995e",
   "metadata": {},
   "outputs": [
    {
     "name": "stdout",
     "output_type": "stream",
     "text": [
      "True\n"
     ]
    }
   ],
   "source": [
    "print(\"안녕\" in \"안녕하세요\")"
   ]
  },
  {
   "cell_type": "code",
   "execution_count": 87,
   "id": "e5cafef6-93bc-4a30-a440-7123b3dd26cd",
   "metadata": {},
   "outputs": [
    {
     "name": "stdout",
     "output_type": "stream",
     "text": [
      "True\n"
     ]
    }
   ],
   "source": [
    "print(\"안\" in \"안녕하세요\")"
   ]
  },
  {
   "cell_type": "code",
   "execution_count": 88,
   "id": "85c76265-3c0b-4a04-8bf6-4159556847a4",
   "metadata": {},
   "outputs": [
    {
     "name": "stdout",
     "output_type": "stream",
     "text": [
      "False\n"
     ]
    }
   ],
   "source": [
    "print(\"안녕허\" in \"안녕하세요\")"
   ]
  },
  {
   "cell_type": "code",
   "execution_count": 89,
   "id": "f84758d0-a237-4236-a24e-9a51d614f213",
   "metadata": {},
   "outputs": [
    {
     "data": {
      "text/plain": [
       "['10', '20', '30', '40', '50']"
      ]
     },
     "execution_count": 89,
     "metadata": {},
     "output_type": "execute_result"
    }
   ],
   "source": [
    "a = \"10 20 30 40 50\".split(\" \")\n",
    "a"
   ]
  },
  {
   "cell_type": "code",
   "execution_count": 90,
   "id": "acaaba07-8f43-416f-ac30-15bbfa8e96c3",
   "metadata": {},
   "outputs": [
    {
     "data": {
      "text/plain": [
       "['10', '20', '30', '40', '50']"
      ]
     },
     "execution_count": 90,
     "metadata": {},
     "output_type": "execute_result"
    }
   ],
   "source": [
    "a = \"10 20 30 40 50\".split(sep=\" \")\n",
    "a"
   ]
  },
  {
   "cell_type": "code",
   "execution_count": 92,
   "id": "c62e1c50-373a-4f66-8a30-4201a27a42a8",
   "metadata": {},
   "outputs": [
    {
     "name": "stdout",
     "output_type": "stream",
     "text": [
      "['sample', 'file', 'txt,py', 'test']\n"
     ]
    }
   ],
   "source": [
    "filename = \"sample.file.txt,py.test\"\n",
    "parts = filename.split('.')\n",
    "print(parts)"
   ]
  },
  {
   "cell_type": "markdown",
   "id": "63226385-0cbf-421c-8120-c57c9dd7580e",
   "metadata": {},
   "source": [
    "# 리스트와 튜플"
   ]
  },
  {
   "cell_type": "code",
   "execution_count": 99,
   "id": "21e5f2c2-bc39-4c26-b2b7-51a78ad99200",
   "metadata": {},
   "outputs": [],
   "source": [
    "a = list()\n",
    "b = []\n",
    "c = [1, 2, 3]\n",
    "d = [\"a\", \"b\", \"c\"] \n",
    "e = [1, 2, \"a\", None, True]\n",
    "f = [1, 2, 3, [1, 2, \"Hello, Python!!!\", None, True]] # Nested List, 중첩 리스트"
   ]
  },
  {
   "cell_type": "code",
   "execution_count": 98,
   "id": "97c6c037-7a79-4d78-b175-a79063a6368d",
   "metadata": {},
   "outputs": [
    {
     "name": "stdout",
     "output_type": "stream",
     "text": [
      "[]\n",
      "[1, 2, 3, [1, 2, 'a', None, True]]\n"
     ]
    }
   ],
   "source": [
    "print(a)\n",
    "print(f)"
   ]
  },
  {
   "cell_type": "code",
   "execution_count": 103,
   "id": "697b4e5b-6fda-4ccb-8a9c-c64adc5edfc6",
   "metadata": {},
   "outputs": [
    {
     "name": "stdout",
     "output_type": "stream",
     "text": [
      "[1, 2, 'Hello, Python!!!', None, True]\n"
     ]
    }
   ],
   "source": [
    "print(f[3])"
   ]
  },
  {
   "cell_type": "code",
   "execution_count": 109,
   "id": "cbafa31f-da30-4624-8199-c2510355729f",
   "metadata": {},
   "outputs": [
    {
     "data": {
      "text/plain": [
       "'Python'"
      ]
     },
     "execution_count": 109,
     "metadata": {},
     "output_type": "execute_result"
    }
   ],
   "source": [
    "f_a = f[3]\n",
    "text = f_a[2]\n",
    "text[7:13]"
   ]
  },
  {
   "cell_type": "code",
   "execution_count": 112,
   "id": "b7c520cb-0ef9-4931-8506-6e561576af19",
   "metadata": {},
   "outputs": [
    {
     "name": "stdout",
     "output_type": "stream",
     "text": [
      "Python\n"
     ]
    }
   ],
   "source": [
    "# 중간에 있는 파이썬 뽑기\n",
    "g = [1, 2, 3, 4, 5, 6, [1, 2, \"Hi,,,, !! Python !!! Hello, \", None, True]]\n",
    "result = g[6][2][10:16]\n",
    "print(result)"
   ]
  }
 ],
 "metadata": {
  "kernelspec": {
   "display_name": "Python 3 (ipykernel)",
   "language": "python",
   "name": "python3"
  },
  "language_info": {
   "codemirror_mode": {
    "name": "ipython",
    "version": 3
   },
   "file_extension": ".py",
   "mimetype": "text/x-python",
   "name": "python",
   "nbconvert_exporter": "python",
   "pygments_lexer": "ipython3",
   "version": "3.11.7"
  }
 },
 "nbformat": 4,
 "nbformat_minor": 5
}
